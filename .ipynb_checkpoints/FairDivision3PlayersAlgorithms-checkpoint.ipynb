{
 "cells": [
  {
   "cell_type": "markdown",
   "metadata": {},
   "source": [
    "# Projet CoCoMa"
   ]
  },
  {
   "cell_type": "markdown",
   "metadata": {},
   "source": [
    "## 1. Introduction"
   ]
  },
  {
   "cell_type": "markdown",
   "metadata": {},
   "source": [
    "### 1.1. Résumé de l'article"
   ]
  },
  {
   "cell_type": "markdown",
   "metadata": {},
   "source": [
    "Dans l'article étudié (Kilgour et Vetschera, 2017), les auteurs présentent une comparaison de différents algorithmes pour l'allocation de ressources indivisibles entre deux agents.\n",
    "\n",
    "Pour rendre la comparaison possible, les auteurs commencent par définir des propriétés désirables que peuvent posséder les allocations renvoyées par les algorithmes, et qui se basent sur les préférences des agents. A noter que ces allocations doivent être équilibrées : chaque agent se voit allouer le même nombre de ressources. \n",
    "Les auteurs distinguent deux types de propriétés. \n",
    "Premièrement, les propriétés ordinales qui se basent sur les rangs des ressources allouées : la Pareto-optimalité, l'Envy-freeness et la propriété Min-Max.\n",
    "Deuxièmement, les propriétés de Borda, qui reposent sur des scores (ou utilités) de Borda associés aux rangs des ressources : Borda-somme maximale (BS), Borda Envy-freeness (BE) et Borda Max-min (BM).\n",
    "\n",
    "\n",
    "\n",
    "Les auteurs reprennent 5 algorithmes de la littérature : Sequential (Brams et Al. 2015), Singles-doubles et Iterated singles-doubles (Brams et Al. 2016), Bottom-Up (Brams et Taylor 1996) et Trump (Pruhs et Woeginger 2012). Ils en introduisent 3 autres qui se basent sur ceux cités précedemment : Restricted Sequential, Modified SD et IS.\n",
    "\n"
   ]
  },
  {
   "cell_type": "markdown",
   "metadata": {},
   "source": [
    "### 1.2. Objectifs"
   ]
  },
  {
   "cell_type": "markdown",
   "metadata": {},
   "source": [
    "## 2. Projet"
   ]
  },
  {
   "cell_type": "markdown",
   "metadata": {},
   "source": [
    "### 2.1 Génération des allocations"
   ]
  },
  {
   "cell_type": "markdown",
   "metadata": {},
   "source": [
    "Pour 3 agents et N items, on génère (N/3 parmis N)\\*(N/3 parmis 2N/3) allocations. "
   ]
  },
  {
   "cell_type": "markdown",
   "metadata": {},
   "source": [
    "### 2.2 Génération des problèmes"
   ]
  },
  {
   "cell_type": "markdown",
   "metadata": {},
   "source": [
    "Pour 3 agents et N items, on génère exactement (N!)² problèmes."
   ]
  },
  {
   "cell_type": "markdown",
   "metadata": {},
   "source": [
    "### 2.2 Algorithmes à 3 agents"
   ]
  },
  {
   "cell_type": "markdown",
   "metadata": {},
   "source": [
    "#### 2.2.1 Algorithme séquentiel (OS)"
   ]
  },
  {
   "cell_type": "markdown",
   "metadata": {},
   "source": [
    "L'algorithme séquentiel pour trois agents reprend celui proposé par Brams et Al. (2015) pour deux agents.\n",
    "Dans l'algorithme initial, on considère toutes les paires d'objets (Ia, Ib) dans Ha(L) et Hb(L) (respectivement le set d'objets non alloués et de rang L ou mieux, pour l'agent 'a' et l'agent 'b').\n",
    "Dans notre version, on considère à la place tous les triplets d'objets (Ia, Ib, Ic) dans Ha(L), Hb(L) et Hc(L)."
   ]
  },
  {
   "cell_type": "code",
   "execution_count": 9,
   "metadata": {},
   "outputs": [
    {
     "name": "stdout",
     "output_type": "stream",
     "text": [
      "OS for 3 agents\n",
      "---\n",
      "Possible allocations: \n",
      "[((1, 4), (3, 6), (2, 5)), ((1, 5), (3, 6), (2, 4)), ((1, 3), (4, 6), (2, 5)), ((1, 5), (4, 6), (2, 3)), ((1, 2), (4, 6), (3, 5)), ((1, 5), (4, 6), (2, 3)), ((1, 2), (4, 6), (3, 5)), ((2, 5), (4, 6), (1, 3))]\n"
     ]
    }
   ],
   "source": [
    "from algorithm import *\n",
    "from agent import Agent\n",
    "\n",
    "agents = []\n",
    "agents.append(Agent([1,2,3,4,5,6],[]))\n",
    "agents.append(Agent([3,4,1,5,6,2],[]))\n",
    "agents.append(Agent([3,2,5,1,4,6],[]))\n",
    "\n",
    "print(\"Sequential algorithm for 3 agents\")\n",
    "res = OS_3(agents)\n",
    "\n",
    "print(\"---\")\n",
    "print(\"Possible allocations: \")\n",
    "print(res)\n"
   ]
  },
  {
   "cell_type": "markdown",
   "metadata": {},
   "source": [
    "#### 2.2.2 Algorithme Bottom-Up (BU)"
   ]
  },
  {
   "cell_type": "markdown",
   "metadata": {},
   "source": [
    "L'algorithme bottom-up pour trois agents reprend celui proposé par Brams et Taylor (1996) pour deux agents, où un agent donne toujours à son adversaire l'objet non alloué qu'il préfère le moins.\n",
    "Dans notre cas, chaque agent présente non pas un, mais deux adversaires. Ainsi, pour un tour, les agents peuvent passer l'objet non alloué non préférable soit à leur voisin de gauche, soit à leur voisin de droite.\n",
    "De plus, on a trois choix possibles pour désigner l'agent qui commence. L'algorithme à trois agents devrait donc généré un nombre d'allocations bien plus important que celui à deux agents."
   ]
  },
  {
   "cell_type": "code",
   "execution_count": 10,
   "metadata": {},
   "outputs": [
    {
     "name": "stdout",
     "output_type": "stream",
     "text": [
      "BottomUp for 3 agents\n",
      "---\n",
      "Possible allocations: \n",
      "[((1, 2), (3, 4), (5, 6)), ((1, 2), (3, 4), (5, 6)), ((2, 3), (4, 5), (1, 6)), ((2, 3), (4, 5), (1, 6)), ((1, 4), (3, 6), (2, 5)), ((1, 4), (3, 6), (2, 5)), ((3, 4), (5, 6), (1, 2)), ((3, 4), (5, 6), (1, 2))]\n"
     ]
    }
   ],
   "source": [
    "from algorithm import *\n",
    "from agent import Agent\n",
    "\n",
    "agents = []\n",
    "agents.append(Agent([1,2,3,4,5,6],[]))\n",
    "agents.append(Agent([3,4,1,5,6,2],[]))\n",
    "agents.append(Agent([3,2,5,1,4,6],[]))\n",
    "\n",
    "print(\"Bottom Up algorithm for 3 agents\")\n",
    "res = bottomUp_3(agents)\n",
    "\n",
    "print(\"---\")\n",
    "print(\"Possible allocations: \")\n",
    "print(res)"
   ]
  },
  {
   "cell_type": "markdown",
   "metadata": {},
   "source": [
    "#### 2.2.3 Algorithme Trump (TR)"
   ]
  },
  {
   "cell_type": "markdown",
   "metadata": {},
   "source": [
    "## 3. Résultats"
   ]
  },
  {
   "cell_type": "markdown",
   "metadata": {},
   "source": [
    " Ci-dessous, une démonstration pour un nombre limité de problèmes."
   ]
  },
  {
   "cell_type": "code",
   "execution_count": 2,
   "metadata": {},
   "outputs": [
    {
     "name": "stdout",
     "output_type": "stream",
     "text": [
      "=-=-=-=-=-=-=-=-=-=-=-=-=-=-=-=-=-=-=-=-=-=-=-=-=-=\n",
      "Fraction of allocations with Borda properties\n",
      "BS        BE        BM        Total     \n",
      "342       138       238       3690      \n",
      "9.27%     3.74%     6.45%     100.0%    \n",
      "\n",
      "=-=-=-=-=-=-=-=-=-=-=-=-=-=-=-=-=-=-=-=-=-=-=-=-=-=\n",
      "Generated allocations with Borda properties\n",
      "          None      BM        BE        BM+BE     BS        BS+BM     BS+BE     All       \n",
      "None      2708      36        26        22        168       13        10        2         \n",
      "OS        90        2         0         0         2         1         0         0         \n",
      "BU        331       33        5         42        71        31        0         28        \n",
      "Both      33        17        1         2         7         9         0         0         \n",
      "\n"
     ]
    }
   ],
   "source": [
    "from situation3 import *\n",
    "\n",
    "sit=Situation3(n_items=6)\n",
    "sit.run(nb_iter = 40,verbose=False)\n",
    "\n",
    "sit.printResults()"
   ]
  },
  {
   "cell_type": "markdown",
   "metadata": {},
   "source": [
    "La résolution complète sur tous les problèmes possibles a été sauvegardé dans un fichier csv.\n",
    "En voici les résultats :"
   ]
  },
  {
   "cell_type": "code",
   "execution_count": 4,
   "metadata": {},
   "outputs": [
    {
     "name": "stdout",
     "output_type": "stream",
     "text": [
      "=-=-=-=-=-=-=-=-=-=-=-=-=-=-=-=-=-=-=-=-=-=-=-=-=-=\n",
      "Fraction of allocations with Borda properties\n",
      "BS        BE        BM        Total     \n",
      "34320     3511808   124358    46656000  \n",
      "0.07%     7.53%     0.27%     100.0%    \n",
      "\n",
      "=-=-=-=-=-=-=-=-=-=-=-=-=-=-=-=-=-=-=-=-=-=-=-=-=-=\n",
      "Generated allocations with Borda properties\n",
      "          None      BM        BE        BM+BE     BS        BS+BM     BS+BE     All       \n",
      "None      40323837  40        2897546   65115     1034      19        1972      24124     \n",
      "OS        1558267   2         180470    4795      186       1         54        458       \n",
      "BU        1000451   33        243030    19269     813       35        0         5082      \n",
      "Both      259355    17        64534     4919      93        9         0         440       \n",
      "\n",
      "=-=-=-=-=-=-=-=-=-=-=-=-=-=-=-=-=-=-=-=-=-=-=-=-=-=\n",
      "Fraction of generated allocation with all Borda properties\n",
      "          6 items   \n",
      "OS        2.98%     \n",
      "BU        18.34%    \n",
      "\n"
     ]
    }
   ],
   "source": [
    "sit2 = Situation3(6)\n",
    "sit2.loadResults(\"csv/complete_first_try.csv\")\n",
    "\n",
    "sit2.printResults()\n",
    "sit2.printResultsAllProperties()\n"
   ]
  },
  {
   "cell_type": "markdown",
   "metadata": {},
   "source": [
    "## 4. Discussion"
   ]
  },
  {
   "cell_type": "markdown",
   "metadata": {},
   "source": [
    "Intérêt de faire sur tous les problèmes.\n",
    "\n",
    "Ressemblances avec le benchmark à deux agents.\n",
    "\n",
    "Différences : pertes de propriétés (pb liés aux algos, pb liés aux propriétés, moins d'allocations ayant des propriétés )\n",
    "    "
   ]
  },
  {
   "cell_type": "markdown",
   "metadata": {},
   "source": [
    "## 5. Conclusion"
   ]
  }
 ],
 "metadata": {
  "kernelspec": {
   "display_name": "Python 2",
   "language": "python",
   "name": "python2"
  },
  "language_info": {
   "codemirror_mode": {
    "name": "ipython",
    "version": 3
   },
   "file_extension": ".py",
   "mimetype": "text/x-python",
   "name": "python",
   "nbconvert_exporter": "python",
   "pygments_lexer": "ipython3",
   "version": "3.5.2"
  }
 },
 "nbformat": 4,
 "nbformat_minor": 2
}
