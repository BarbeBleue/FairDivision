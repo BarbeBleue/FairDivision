{
 "cells": [
  {
   "cell_type": "markdown",
   "metadata": {},
   "source": [
    "# Projet CoCoMa"
   ]
  },
  {
   "cell_type": "markdown",
   "metadata": {},
   "source": [
    "## 1. Introduction"
   ]
  },
  {
   "cell_type": "markdown",
   "metadata": {},
   "source": [
    "### 1.1. Résumé de l'article"
   ]
  },
  {
   "cell_type": "markdown",
   "metadata": {},
   "source": [
    "Dans l'article étudié (Kilgour et Vetschera, 2017), les auteurs présentent une comparaison de différents algorithmes pour l'allocation de ressources indivisibles entre deux agents.\n",
    "\n",
    "Pour rendre la comparaison possible, les auteurs commencent par définir des propriétés désirables que peuvent posséder les allocations renvoyées par les algorithmes, et qui se basent sur les préférences des agents. A noter que ces allocations doivent être équilibrées : chaque agent se voit allouer le même nombre de ressources. \n",
    "Les auteurs distinguent deux types de propriétés. \n",
    "Premièrement, les propriétés ordinales qui se basent sur les rangs des ressources allouées : la Pareto-optimalité, l'Envy-freeness et la propriété Min-Max.\n",
    "Deuxièmement, les propriétés de Borda, qui reposent sur des scores (ou utilités) de Borda associés aux rangs des ressources : Borda-somme maximale (BS), Borda Envy-freeness (BE) et Borda Max-min (BM).\n",
    "\n",
    "Les auteurs reprennent 5 algorithmes de la littérature : Sequential (Brams et Al. 2015), Singles-doubles et Iterated singles-doubles (Brams et Al. 2016), Bottom-Up (Brams et Taylor 1996) et Trump (Pruhs et Woeginger 2012). Ils en introduisent 3 autres qui se basent sur ceux cités précedemment : Restricted Sequential, Modified SD et IS.\n",
    "Certains algorithmes garantissent des propriétés sur leurs allocations, par exemple l'algorithme bottom-up garantit les propriétés Max-min. \n",
    "\n",
    "Les algorithmes ont été testés pour différentes quantités de ressources paires allant de 4 à 12 et sur toutes les préférences possibles. \n",
    "\n"
   ]
  },
  {
   "cell_type": "markdown",
   "metadata": {},
   "source": [
    "### 1.2. Objectifs"
   ]
  },
  {
   "cell_type": "markdown",
   "metadata": {},
   "source": [
    "Dans le cadre de ce mini-projet de Cocoma 2019, nous allons chercher à étendre les résultats de l'article pour trois agents. \n",
    "\n",
    "Dans la suite de ce notebook, nous décrirons nos choix d'algorithmes, et la manière dont nous avons adapté ces algorithmes ainsi que les propriétés pour le cas à trois agents."
   ]
  },
  {
   "cell_type": "markdown",
   "metadata": {},
   "source": [
    "## 2. Projet"
   ]
  },
  {
   "cell_type": "markdown",
   "metadata": {},
   "source": [
    "### 2.1 Génération des allocations"
   ]
  },
  {
   "cell_type": "markdown",
   "metadata": {},
   "source": [
    "Pour 3 agents et N items, on génère (N/3 parmi N)*(N/3 parmi 2N/3) allocations. \n"
   ]
  },
  {
   "cell_type": "markdown",
   "metadata": {},
   "source": [
    "### 2.2 Génération des problèmes"
   ]
  },
  {
   "cell_type": "markdown",
   "metadata": {},
   "source": [
    "Pour 3 agents et N items, on génère exactement (N!)² problèmes."
   ]
  },
  {
   "cell_type": "markdown",
   "metadata": {},
   "source": [
    "### 2.2 Algorithmes à 3 agents"
   ]
  },
  {
   "cell_type": "markdown",
   "metadata": {},
   "source": [
    "#### 2.2.1 Algorithme séquentiel (OS)"
   ]
  },
  {
   "cell_type": "markdown",
   "metadata": {},
   "source": [
    "L'algorithme séquentiel pour trois agents reprend celui proposé par Brams et Al. (2015) pour deux agents.\n",
    "Dans l'algorithme initial, on considère toutes les paires d'objets (Ia, Ib) dans Ha(L) et Hb(L) (respectivement le set d'objets non alloués et de rang L ou mieux, pour l'agent 'a' et l'agent 'b').\n",
    "Dans notre version, on considère à la place tous les triplets d'objets (Ia, Ib, Ic) dans Ha(L), Hb(L) et Hc(L)."
   ]
  },
  {
   "cell_type": "code",
   "execution_count": 9,
   "metadata": {},
   "outputs": [
    {
     "name": "stdout",
     "output_type": "stream",
     "text": [
      "OS for 3 agents\n",
      "---\n",
      "Possible allocations: \n",
      "[((1, 4), (3, 6), (2, 5)), ((1, 5), (3, 6), (2, 4)), ((1, 3), (4, 6), (2, 5)), ((1, 5), (4, 6), (2, 3)), ((1, 2), (4, 6), (3, 5)), ((1, 5), (4, 6), (2, 3)), ((1, 2), (4, 6), (3, 5)), ((2, 5), (4, 6), (1, 3))]\n"
     ]
    }
   ],
   "source": [
    "from algorithm import *\n",
    "from agent import Agent\n",
    "\n",
    "agents = []\n",
    "agents.append(Agent([1,2,3,4,5,6],[]))\n",
    "agents.append(Agent([3,4,1,5,6,2],[]))\n",
    "agents.append(Agent([3,2,5,1,4,6],[]))\n",
    "\n",
    "print(\"Sequential algorithm for 3 agents\")\n",
    "res = OS_3(agents)\n",
    "\n",
    "print(\"---\")\n",
    "print(\"Possible allocations: \")\n",
    "print(res)\n"
   ]
  },
  {
   "cell_type": "markdown",
   "metadata": {},
   "source": [
    "#### 2.2.2 Algorithme Bottom-Up (BU)"
   ]
  },
  {
   "cell_type": "markdown",
   "metadata": {},
   "source": [
    "L'algorithme bottom-up pour trois agents reprend celui proposé par Brams et Taylor (1996) pour deux agents, où un agent donne toujours à son adversaire l'objet non alloué qu'il préfère le moins.\n",
    "Dans notre cas, chaque agent présente non pas un, mais deux adversaires. Ainsi, pour un tour, les agents peuvent passer l'objet non alloué non préférable soit à leur voisin de gauche, soit à leur voisin de droite.\n",
    "De plus, on a trois choix possibles pour désigner l'agent qui commence. L'algorithme à trois agents devrait donc généré un nombre d'allocations bien plus important que celui à deux agents."
   ]
  },
  {
   "cell_type": "code",
   "execution_count": 10,
   "metadata": {},
   "outputs": [
    {
     "name": "stdout",
     "output_type": "stream",
     "text": [
      "BottomUp for 3 agents\n",
      "---\n",
      "Possible allocations: \n",
      "[((1, 2), (3, 4), (5, 6)), ((1, 2), (3, 4), (5, 6)), ((2, 3), (4, 5), (1, 6)), ((2, 3), (4, 5), (1, 6)), ((1, 4), (3, 6), (2, 5)), ((1, 4), (3, 6), (2, 5)), ((3, 4), (5, 6), (1, 2)), ((3, 4), (5, 6), (1, 2))]\n"
     ]
    }
   ],
   "source": [
    "from algorithm import *\n",
    "from agent import Agent\n",
    "\n",
    "agents = []\n",
    "agents.append(Agent([1,2,3,4,5,6],[]))\n",
    "agents.append(Agent([3,4,1,5,6,2],[]))\n",
    "agents.append(Agent([3,2,5,1,4,6],[]))\n",
    "\n",
    "print(\"Bottom Up algorithm for 3 agents\")\n",
    "res = bottomUp_3(agents)\n",
    "\n",
    "print(\"---\")\n",
    "print(\"Possible allocations: \")\n",
    "print(res)"
   ]
  },
  {
   "cell_type": "markdown",
   "metadata": {},
   "source": [
    "#### 2.2.3 Algorithme Trump (TR)"
   ]
  },
  {
   "cell_type": "markdown",
   "metadata": {},
   "source": [
    "## 3. Résultats"
   ]
  },
  {
   "cell_type": "markdown",
   "metadata": {},
   "source": [
    "Pour rester dans des temps de résolution raisonnables, nous nous sommes réduits à N = 6 ressources.\n",
    "Ci-dessous, une démonstration pour un nombre limité de problèmes. On peut fixer nb_iter = -1 pour lancer le programme sur tous les problèmes possibles (cela risque de prendre plusieurs minutes)."
   ]
  },
  {
   "cell_type": "code",
   "execution_count": 2,
   "metadata": {
    "scrolled": false
   },
   "outputs": [
    {
     "name": "stdout",
     "output_type": "stream",
     "text": [
      "=-=-=-=-=-=-=-=-=-=-=-=-=-=-=-=-=-=-=-=-=-=-=-=-=-=\n",
      "(Tab 1.1) Mean number of generated allocations\n",
      "          6 items   \n",
      "OS        14.88     \n",
      "BU        4.0       \n",
      "\n",
      "=-=-=-=-=-=-=-=-=-=-=-=-=-=-=-=-=-=-=-=-=-=-=-=-=-=\n",
      "(Tab 1.2) Fraction of allocations with Borda properties\n",
      "BS        BE        BM        Total     \n",
      "342       138       238       3690      \n",
      "9.27%     3.74%     6.45%     100.0%    \n",
      "\n",
      "=-=-=-=-=-=-=-=-=-=-=-=-=-=-=-=-=-=-=-=-=-=-=-=-=-=\n",
      "(Tab 1.3) Generated allocations with Borda properties\n",
      "          None      BM        BE        BM+BE     BS        BS+BM     BS+BE     All       \n",
      "None      2708      36        26        22        168       13        10        2         \n",
      "OS        331       33        5         42        71        31        0         28        \n",
      "BU        90        2         0         0         2         1         0         0         \n",
      "Both      33        17        1         2         7         9         0         0         \n",
      "\n"
     ]
    }
   ],
   "source": [
    "from situation3 import *\n",
    "\n",
    "sit=Situation3(n_items=6)\n",
    "sit.run(nb_iter = 40,verbose=False)\n",
    "\n",
    "sit.printResults()"
   ]
  },
  {
   "cell_type": "markdown",
   "metadata": {},
   "source": [
    "Chacun des tableaux ci-dessus essaient de répondre à des questions énoncées par les auteurs et qui permettent d'évaluer les algorithmes testés. Nous reprenons ces questions pour évaluer les algorithmes adaptés au cas trois agents :\n",
    "- RQ1 : Combien d'allocations ont été générées en moyenne par les algorithmes ? \n",
    "- RQ2a : Quelle portion des allocations générées ont des propriétés désirables ?\n",
    "- RQ2b : Quelle portion des allocations ayant des propriétés désirables ont été générées ?\n",
    "- RQ2c : Dans quelle portion des problèmes les algorithmes arrivent à trouver au moins une allocation désirable (si elle existe) ?\n",
    "- RQ3 : Quelle portion de bonnes allocations trouvées par un algorithme a été aussi trouvée par les autres algorithmes ?\n",
    "\n",
    "La résolution complète sur tous les problèmes possibles a été sauvegardé dans un fichier csv.\n",
    "En voici les résultats :"
   ]
  },
  {
   "cell_type": "code",
   "execution_count": 4,
   "metadata": {
    "scrolled": false
   },
   "outputs": [
    {
     "name": "stdout",
     "output_type": "stream",
     "text": [
      "=-=-=-=-=-=-=-=-=-=-=-=-=-=-=-=-=-=-=-=-=-=-=-=-=-=\n",
      "(Tab 1.1) Mean number of generated allocations\n",
      "          6 items   \n",
      "OS        3.08      \n",
      "BU        19.88     \n",
      "\n",
      "=-=-=-=-=-=-=-=-=-=-=-=-=-=-=-=-=-=-=-=-=-=-=-=-=-=\n",
      "(Tab 1.2) Fraction of allocations with Borda properties\n",
      "BS        BE        BM        Total     \n",
      "34320     3511808   124358    46656000  \n",
      "0.07%     7.53%     0.27%     100.0%    \n",
      "\n",
      "=-=-=-=-=-=-=-=-=-=-=-=-=-=-=-=-=-=-=-=-=-=-=-=-=-=\n",
      "(Tab 1.3) Generated allocations with Borda properties\n",
      "          None      BM        BE        BM+BE     BS        BS+BM     BS+BE     All       \n",
      "None      32806343  37        2337165   48692     839       17        1466      14968     \n",
      "OS        902300    31        217262    16661     773       30        0         4421      \n",
      "BU        9075761   5         740851    21218     381       3         560       9614      \n",
      "Both      357506    19        90302     7527      133       14        0         1101      \n",
      "\n",
      "=-=-=-=-=-=-=-=-=-=-=-=-=-=-=-=-=-=-=-=-=-=-=-=-=-=\n",
      "(Tab 2.1) Fraction of generated allocation with all Borda properties\n",
      "          6 items   \n",
      "OS        0.35%     \n",
      "BU        0.1%      \n",
      "\n",
      "=-=-=-=-=-=-=-=-=-=-=-=-=-=-=-=-=-=-=-=-=-=-=-=-=-=\n",
      "(Tab 2.2) Fraction of problems where algorithms found an allocation with all Borda properties\n",
      "          6 items   \n",
      "OS        18.05%    \n",
      "BU        36.88%    \n",
      "\n"
     ]
    }
   ],
   "source": [
    "sit2 = Situation3(6)\n",
    "sit2.loadResults(\"csv/complete_3.csv\")\n",
    "\n",
    "sit2.printResults()\n",
    "sit2.printResultsAllProperties()\n"
   ]
  },
  {
   "cell_type": "markdown",
   "metadata": {},
   "source": [
    "## 4. Discussion"
   ]
  },
  {
   "cell_type": "markdown",
   "metadata": {},
   "source": [
    "Dans un premier temps, on voit tout de suite l'intérêt d'effectuer cette étude sur toutes les préférences possibles. En effet, les proportions d'allocation ayant des propriétés de Borda sont très différentes, suivant qu'on lance le programme sur une partie ou l'ensemble de problèmes (voir Tab 1.2 de la démonstration et des résultats finaux). \n",
    "\n",
    "Pour la première **question RQ1**, on observe sur le tableau (Tab 1.1) un nombre plus important d'allocations générées par rapport au cas à deux agents. Si on se réfère aux données de l'article, pour N=6, on passe de 1.7 à 3.08 pour l'algorithme OS (+81%) et de 1.7 à 19.88 pour l'algorithme BU (+1070%).  \n",
    "**L'algorithme OS** assigne des triplets d'objets, ce qui veut dire qu'à chaque moment où il y a contestation, on a (3!) embranchements. Ainsi, pour N=items, l'algorithme OS peut retourner au maximum (3!)^(N/3) allocations. Dans notre cas à N=6, nous avons donc 36 allocations tout au plus, ce qui est largement au dessus de 8 allocations maximales dans le cas 2 agents.  \n",
    "**L'algorithme BU** crée deux branches à chaque tour (c'est à dire à chaque fois que les trois agents reçoivent un objet en plus). Pour N=6, nous avons 6/3 = 2 tours d'allocations. Il faut aussi prendre en compte les (3!) combinaisons d'ordre de passage des agents. Ainsi, l'algorithme renvoit tout au plus (3!)*2² = 24 allocations. \n",
    "\n",
    "Ensuite, évaluons les performances de ces algorithmes sur la base de propriétés désirables. Nous avons utilisé les propriétés  de Borda BS, BE et BM.  \n",
    "Pour la **question RQ2a**, observons la table 1.3. On observe que pour 21.1% des allocations générées par OS et 8.45% par BU satisfont au moins une propriété. De plus, on observe que seulement 0.35% des allocations pour OS et 0.10% pour BU présentent toutes les propriétés de Borda (table 2.1). Nos versions des algorithmes pour le cas trois agents présenterait donc des performances bien moindre par rapport aux algorithmes originels pour deux agents.  \n",
    "On pourrait avancer que des allocations respectant les propriétés de Borda à trois agents sont plus difficiles à trouver. Si l'on observe la table 1.2, on voit que la proportion d'allocations ayant des propriétés de Borda  est bien moindre. Pour BE, on passe de ~25% à 7.53% (-70%). Pour BS, on passe de ~8.5% à 0.07% (-99.17%) et pour BM, on passe de 7.5% à 0.27% (-96.4%). Les propriétés BM et BS deviennent donc très fortes dans le cas à trois agents, ce qui expliquerait la baisse de performance apparente des algorithmes.  \n",
    "Il pourrait être intéressant de modifier ces propriétés ou bien d'en trouver d'autres plus faibles et ainsi plus approprié pour l'études du cas à trois agents.  \n",
    "Pour la **question RQ2b**, on peut calculer à partir de la table 1.3 les pourcentages d'allocations ayant des propriétés qui ont pu être générées par les algorithmes. Nous obtenons le tableau ci-dessous :\n",
    "\n",
    "|  .  | BS  | BE  | BM  | All  |\n",
    "|:-----:|:-----:|:-----:|:-----:|:------:|\n",
    "| OS  |  18.9%  |  9.6%  | 24.0%  |  18.3%  |\n",
    "|  BU |  34.4%  | 24.8% |  31.8% | 35.6%  |\n",
    "\n",
    "Les deux algorithmes parviennent à trouver une quantité non négligeable d'allocations avec de bonnes propriétés.  \n",
    "Pour la **question RQ2c**, observons la table 2.2. Malgré le caractère restrictif des propriétés évoqué plus tôt, on voit que les deux algorithmes trouvent souvent au moins une allocation satisfaisant les trois propriétés de Borda. Pour faire le lien avec la question RQ1, les deux algorithmes (surtout BU) génèrent plus d'allocations, ce qui augmente aussi les chances de tomber sur des allocations désirables.\n",
    "\n",
    "Enfin pour la **question RQ3**, on peut étudier les allocations partagées / exclusives à partir des données de la table 1.3. En voici les résultats\n",
    "\n",
    "|  .  | Exclusif  | Partagé | Manqué  | Tous manqué  |\n",
    "|:-----:|:-----:|:-----:|:-----:|:------:|\n",
    "| OS  |  14.7%  |  3.66%  | 31.9%  |  49.7%  |\n",
    "|  BU |  31.9%  | 3.66% |  14.7% | 49.7%  |\n",
    "\n",
    "\n"
   ]
  },
  {
   "cell_type": "markdown",
   "metadata": {},
   "source": [
    "## 5. Conclusion"
   ]
  },
  {
   "cell_type": "code",
   "execution_count": null,
   "metadata": {},
   "outputs": [],
   "source": []
  },
  {
   "cell_type": "code",
   "execution_count": null,
   "metadata": {},
   "outputs": [],
   "source": []
  }
 ],
 "metadata": {
  "kernelspec": {
   "display_name": "Python 2",
   "language": "python",
   "name": "python2"
  },
  "language_info": {
   "codemirror_mode": {
    "name": "ipython",
    "version": 3
   },
   "file_extension": ".py",
   "mimetype": "text/x-python",
   "name": "python",
   "nbconvert_exporter": "python",
   "pygments_lexer": "ipython3",
   "version": "3.5.2"
  }
 },
 "nbformat": 4,
 "nbformat_minor": 2
}
